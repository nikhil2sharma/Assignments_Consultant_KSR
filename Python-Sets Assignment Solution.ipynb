{
 "cells": [
  {
   "cell_type": "markdown",
   "metadata": {},
   "source": [
    "# Python-Sets Assignment Solution"
   ]
  },
  {
   "cell_type": "raw",
   "metadata": {},
   "source": [
    "Prepared By Nikhil Sharma\n",
    "Date 02-11-2020\n",
    "Sets and dictionaries "
   ]
  },
  {
   "cell_type": "raw",
   "metadata": {},
   "source": [
    "Question 1.\n",
    "set1={6,7,2,1,4,5,1,1,5,1,5,1} what is the output of set1? "
   ]
  },
  {
   "cell_type": "code",
   "execution_count": 1,
   "metadata": {},
   "outputs": [
    {
     "name": "stdout",
     "output_type": "stream",
     "text": [
      "{1, 2, 4, 5, 6, 7}\n"
     ]
    }
   ],
   "source": [
    "# Solution1 \n",
    "set1={6,7,2,1,4,5,1,1,5,1,5,1}\n",
    "# It will removes the duplicate elements as per set python defnation It is a collection of unique elemens\n",
    "print(set1)"
   ]
  },
  {
   "cell_type": "raw",
   "metadata": {},
   "source": [
    "Questin 2.\n",
    "set1 = {\"a\", \"b\" , \"c\",4} and set2 = {1, 2, 3,'d'} combine two sets and what is the output? "
   ]
  },
  {
   "cell_type": "code",
   "execution_count": 2,
   "metadata": {},
   "outputs": [
    {
     "data": {
      "text/plain": [
       "{1, 2, 3, 4, 'a', 'b', 'c', 'd'}"
      ]
     },
     "execution_count": 2,
     "metadata": {},
     "output_type": "execute_result"
    }
   ],
   "source": [
    "#Solution 2\n",
    "set1 = {\"a\", \"b\" , \"c\",4}\n",
    "set2 = {1, 2, 3,'d'}\n",
    "\n",
    "set1.union(set2)"
   ]
  },
  {
   "cell_type": "raw",
   "metadata": {},
   "source": [
    "Questio 3.\n",
    "dict1={'SNO':1,'Dept':'Sales','Place':'India'}\n",
    "what is the output of dict1.keys()?\n",
    "what is the output of dict1.values()?\n",
    "what is the output of dict1.items()? \n"
   ]
  },
  {
   "cell_type": "code",
   "execution_count": 3,
   "metadata": {},
   "outputs": [
    {
     "name": "stdout",
     "output_type": "stream",
     "text": [
      "dict_keys(['SNO', 'Dept', 'Place'])\n",
      "dict_values([1, 'Sales', 'India'])\n"
     ]
    }
   ],
   "source": [
    "dict1={'SNO':1,'Dept':'Sales','Place':'India'}\n",
    "\n",
    "#output of dict1.keys() : Collection of all the dictionary keys\n",
    "print(dict1.keys())\n",
    "\n",
    "#output of dict1.values() : Collection of values of dictionary\n",
    "print(dict1.values())"
   ]
  },
  {
   "cell_type": "raw",
   "metadata": {},
   "source": [
    "Question 4.\n",
    "Convert above data dictionary to pandas DataFrame? \n"
   ]
  },
  {
   "cell_type": "code",
   "execution_count": 4,
   "metadata": {},
   "outputs": [
    {
     "data": {
      "text/html": [
       "<div>\n",
       "<style scoped>\n",
       "    .dataframe tbody tr th:only-of-type {\n",
       "        vertical-align: middle;\n",
       "    }\n",
       "\n",
       "    .dataframe tbody tr th {\n",
       "        vertical-align: top;\n",
       "    }\n",
       "\n",
       "    .dataframe thead th {\n",
       "        text-align: right;\n",
       "    }\n",
       "</style>\n",
       "<table border=\"1\" class=\"dataframe\">\n",
       "  <thead>\n",
       "    <tr style=\"text-align: right;\">\n",
       "      <th></th>\n",
       "      <th>SNO</th>\n",
       "      <th>Dept</th>\n",
       "      <th>Place</th>\n",
       "    </tr>\n",
       "  </thead>\n",
       "  <tbody>\n",
       "    <tr>\n",
       "      <th>SNO</th>\n",
       "      <td>1</td>\n",
       "      <td>Sales</td>\n",
       "      <td>India</td>\n",
       "    </tr>\n",
       "    <tr>\n",
       "      <th>Dept</th>\n",
       "      <td>1</td>\n",
       "      <td>Sales</td>\n",
       "      <td>India</td>\n",
       "    </tr>\n",
       "    <tr>\n",
       "      <th>Place</th>\n",
       "      <td>1</td>\n",
       "      <td>Sales</td>\n",
       "      <td>India</td>\n",
       "    </tr>\n",
       "  </tbody>\n",
       "</table>\n",
       "</div>"
      ],
      "text/plain": [
       "       SNO   Dept  Place\n",
       "SNO      1  Sales  India\n",
       "Dept     1  Sales  India\n",
       "Place    1  Sales  India"
      ]
     },
     "execution_count": 4,
     "metadata": {},
     "output_type": "execute_result"
    }
   ],
   "source": [
    "# Solution 4\n",
    "import pandas as pd\n",
    "df=pd.DataFrame(dict1,index=dict1.keys())\n",
    "df"
   ]
  },
  {
   "cell_type": "raw",
   "metadata": {},
   "source": [
    "Questin 5.\n",
    "What are sets and frozen sets? \n"
   ]
  },
  {
   "cell_type": "code",
   "execution_count": 5,
   "metadata": {},
   "outputs": [
    {
     "name": "stdout",
     "output_type": "stream",
     "text": [
      "{'banana', 'cherry', 'apple'}\n",
      "None\n",
      "{'banana', 'cherry', 'apple', 'litchi'}\n",
      "None\n",
      "{'cherry', 'apple', 'litchi'}\n",
      "3\n",
      "Addin multiple element using updtae method {1, 2, 3, 4, 'litchi', 'cherry', 'apple'}\n"
     ]
    }
   ],
   "source": [
    "#Solution 5.\n",
    "# A set is a collection which is unordered and unindexed. In Python sets are written with curly brackets.\n",
    "set1={\"apple\", \"banana\", \"cherry\"}\n",
    "print(set1)\n",
    "\n",
    "# We can use add() object method to add an item, and the remove() object method to remove an item from the set it raises if element not exist to avoid error \n",
    "# we can us discard method.The len() function returns the size of the set.\n",
    "\n",
    "# For addition of two or more elements Update() method is used. The update() method accepts lists, strings, tuples as well \n",
    "# as other sets as its arguments. In all of these cases, duplicate elements are avoided.\n",
    "\n",
    "print(set1.add('litchi'))\n",
    "print(set1)\n",
    "\n",
    "print(set1.remove('banana'))\n",
    "print(set1)\n",
    "\n",
    "\n",
    "print(len(set1))\n",
    "\n",
    "\n",
    "set1.update([1,2,3,4])\n",
    "print('Addin multiple element using updtae method',set1)\n",
    "\n",
    "\n",
    "# The frozenset() function returns an unchangeable frozenset object (which is like a set object, only unchangeable).\n",
    "\n",
    "\n",
    "\n"
   ]
  },
  {
   "cell_type": "raw",
   "metadata": {},
   "source": [
    "Question 6.\n",
    "set1={6,7,2,1,4,5,1,1,5,1,5,1} how access set elements? \n"
   ]
  },
  {
   "cell_type": "code",
   "execution_count": 8,
   "metadata": {},
   "outputs": [
    {
     "name": "stdout",
     "output_type": "stream",
     "text": [
      "1\n",
      "2\n",
      "4\n",
      "5\n",
      "6\n",
      "7\n"
     ]
    }
   ],
   "source": [
    "#Solution 6\n",
    "set1={6,7,2,1,4,5,1,1,5,1,5,1}\n",
    "\n",
    "#We can acces element of set using loop\n",
    "for elem in set1:\n",
    "    print(elem)\n",
    "    \n",
    "set1.discard(6)"
   ]
  },
  {
   "cell_type": "raw",
   "metadata": {},
   "source": [
    "Questio 7.\n",
    "How to update set element 6 here? \n"
   ]
  },
  {
   "cell_type": "code",
   "execution_count": 10,
   "metadata": {},
   "outputs": [],
   "source": [
    "#Solution 7\n",
    "set1.add(6)"
   ]
  },
  {
   "cell_type": "raw",
   "metadata": {},
   "source": [
    "set1"
   ]
  },
  {
   "cell_type": "raw",
   "metadata": {},
   "source": [
    "Quetion 8\n",
    "Set1.pop() which element will be removed?"
   ]
  },
  {
   "cell_type": "code",
   "execution_count": 16,
   "metadata": {},
   "outputs": [
    {
     "data": {
      "text/plain": [
       "5"
      ]
     },
     "execution_count": 16,
     "metadata": {},
     "output_type": "execute_result"
    }
   ],
   "source": [
    "#Solution 8\n",
    "set1.pop()\n",
    "\n",
    "# Remove and return an arbitrary set element.\n",
    "# Raises KeyError if the set is empty."
   ]
  },
  {
   "cell_type": "code",
   "execution_count": null,
   "metadata": {},
   "outputs": [],
   "source": []
  }
 ],
 "metadata": {
  "kernelspec": {
   "display_name": "Python 3",
   "language": "python",
   "name": "python3"
  },
  "language_info": {
   "codemirror_mode": {
    "name": "ipython",
    "version": 3
   },
   "file_extension": ".py",
   "mimetype": "text/x-python",
   "name": "python",
   "nbconvert_exporter": "python",
   "pygments_lexer": "ipython3",
   "version": "3.8.3"
  }
 },
 "nbformat": 4,
 "nbformat_minor": 4
}
