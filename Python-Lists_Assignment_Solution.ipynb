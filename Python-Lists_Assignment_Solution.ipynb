{
 "cells": [
  {
   "cell_type": "markdown",
   "metadata": {},
   "source": [
    "# Python-Lists"
   ]
  },
  {
   "cell_type": "raw",
   "metadata": {},
   "source": [
    "Prepared by : Nikhil Sharma\n",
    "Date : 04-11-2020"
   ]
  },
  {
   "cell_type": "raw",
   "metadata": {},
   "source": [
    "Question 1.\n",
    "1. How to combine two lists horizontally and vertically using pandas Dataframes?\n",
    "Ex: list1=[1,2,3,4]\n",
    " list2=[5,6,7,8] "
   ]
  },
  {
   "cell_type": "code",
   "execution_count": 1,
   "metadata": {},
   "outputs": [],
   "source": [
    "import pandas as pd\n",
    "import numpy as np"
   ]
  },
  {
   "cell_type": "code",
   "execution_count": 7,
   "metadata": {},
   "outputs": [
    {
     "name": "stdout",
     "output_type": "stream",
     "text": [
      "   col1  col2\n",
      "0     1     5\n",
      "1     2     6\n",
      "2     3     7\n",
      "3     4     8\n",
      "_______________________________\n",
      "   0  1  2  3\n",
      "0  1  2  3  4\n",
      "1  5  6  7  8\n"
     ]
    }
   ],
   "source": [
    "#Soution 1\n",
    "list1=[1,2,3,4]\n",
    "list2=[5,6,7,8]\n",
    "\n",
    "ver_df=pd.DataFrame({'col1':list1,'col2':list2},index=range(4))\n",
    "print(ver_df)\n",
    "print('_______________________________')\n",
    "\n",
    "\n",
    "\n",
    "hor_df=pd.DataFrame([list1,list2])\n",
    "print(hor_df)"
   ]
  },
  {
   "cell_type": "raw",
   "metadata": {},
   "source": [
    "Question 2\n",
    "What will be output of the below?\n",
    "List1=[1,2,3,4]\n",
    "list2=[5,6,7,8]\n",
    "for i in zip(list1,list2):\n",
    " print(i) \n",
    " \n",
    " "
   ]
  },
  {
   "cell_type": "code",
   "execution_count": 8,
   "metadata": {},
   "outputs": [
    {
     "name": "stdout",
     "output_type": "stream",
     "text": [
      "(1, 5)\n",
      "(2, 6)\n",
      "(3, 7)\n",
      "(4, 8)\n"
     ]
    }
   ],
   "source": [
    "List1=[1,2,3,4]\n",
    "list2=[5,6,7,8]\n",
    "for i in zip(list1,list2):\n",
    " print(i) "
   ]
  },
  {
   "cell_type": "raw",
   "metadata": {},
   "source": [
    "Questin 3.\n",
    "Write a user defined to take list as input and find the 2nd highest number in the list\n",
    "without using sort function? "
   ]
  },
  {
   "cell_type": "code",
   "execution_count": 20,
   "metadata": {},
   "outputs": [],
   "source": [
    "def list_2ndhigh(list1):\n",
    "    list1=set(list1)\n",
    "    list1.discard(max(list1))\n",
    "    return max(list1)"
   ]
  },
  {
   "cell_type": "code",
   "execution_count": 22,
   "metadata": {},
   "outputs": [
    {
     "data": {
      "text/plain": [
       "39"
      ]
     },
     "execution_count": 22,
     "metadata": {},
     "output_type": "execute_result"
    }
   ],
   "source": [
    "Question 4\n",
    "list1=[1,2,3,4]\n",
    "list2=[5,6,7,8]\n",
    "what is the output of list1.extend(list2)?\n",
    "what is the output of list1+list2?\n",
    "what is the output of list1.append(list2)? "
   ]
  },
  {
   "cell_type": "code",
   "execution_count": 32,
   "metadata": {},
   "outputs": [],
   "source": [
    "# Solution 4\n",
    "list1=[1,2,3,4]\n",
    "list2=[5,6,7,8]\n",
    "# what is the output of list1.extend(list2)?\n",
    "# Output 4(a) Output  is None but it will update list1 =[1,2,3,4,5,6,7,8]\n",
    "# what is the output of list1+list2?\n",
    "#Output 4(b) [1,2,3,4,5,6,7,8]\n",
    "# what is the output of list1.append(list2)? \n",
    "# Output 4(c) Output is None but list1 is append one single value [1,2,3,4,[5,6,7,8]]\n"
   ]
  },
  {
   "cell_type": "raw",
   "metadata": {},
   "source": [
    "Question 5\n",
    "list1 = [5, 10, 20, 8, 21, 6, 7, 2]\n",
    "how to update 40 in the place of 20?\n",
    "Add element 25 at index position 3?\n",
    "Add element 41 at index end position without mentioning index position?"
   ]
  },
  {
   "cell_type": "code",
   "execution_count": 40,
   "metadata": {},
   "outputs": [
    {
     "name": "stdout",
     "output_type": "stream",
     "text": [
      "[5, 10, 40, 8, 21, 6, 7, 2]\n",
      "[5, 10, 40, 25, 8, 21, 6, 7, 2]\n",
      "[5, 10, 40, 25, 8, 21, 6, 7, 2, 41]\n",
      "[5, 10, 40, 25, 8, 21, 6, 7, 2, 41, 41]\n"
     ]
    }
   ],
   "source": [
    "#Solution 5\n",
    "list1 = [5, 10, 20, 8, 21, 6, 7, 2]\n",
    "# list1.insert(position,value)\n",
    "list1[2]=40\n",
    "print(list1)\n",
    "#Add element 25 at index position 3?\n",
    "list1.insert(3,25)\n",
    "print(list1)\n",
    "# Add element 41 at index end position without mentioning index position?\n",
    "n=len(list1)\n",
    "list1.insert(n,41)\n",
    "print(list1)\n",
    "\n",
    "# Or \n",
    "\n",
    "list1.append(41)\n",
    "\n",
    "print(list1)"
   ]
  },
  {
   "cell_type": "raw",
   "metadata": {},
   "source": [
    "Question 6.\n",
    "Explain shallow copy and deep copy with an example? "
   ]
  },
  {
   "cell_type": "code",
   "execution_count": 48,
   "metadata": {},
   "outputs": [
    {
     "name": "stdout",
     "output_type": "stream",
     "text": [
      "shallow copy of a in b [1, 0, 3]\n",
      "actual a [1, 0, 3]\n",
      "deep copy of c in d [1, 2, 3, 10, 20, 30]\n",
      "actual c [1, 2, 3]\n"
     ]
    }
   ],
   "source": [
    "# A shallow copy is one which makes a new object stores the reference of another object. While, in deep copy,\n",
    "# a new object stores the copy of all references of another object making it another list separate from the original one.\n",
    "\n",
    "# Thus, when you make a change to the deep copy of a list, the old list doesn’t get affected and vice-versa.\n",
    "# But shallow copying causes changes in both the new as well as in the old list.\n",
    "\n",
    "#shallow : memoary address is assigned to bot a and b\n",
    "a=[1,2,3]\n",
    "b=a\n",
    "b[1]=0\n",
    "print('shallow copy of a in b',b)\n",
    "print('actual a',a)\n",
    "##>> Here value of a and b both are impacting.\n",
    "\n",
    "\n",
    "#deep copy : only value is assigned \n",
    "c=[1,2,3]\n",
    "d=c.copy()\n",
    "d.extend([10,20,30])\n",
    "print('deep copy of c in d',d)\n",
    "print('actual c',c)"
   ]
  },
  {
   "cell_type": "raw",
   "metadata": {},
   "source": [
    "Question 7\n",
    "n=[1,2,3,4,5,6,7,8,9,10,11,12] what is the output of below?\n",
    "print(n[:])\n",
    "print(n[1:5])\n",
    "print(n[:2])\n",
    "print(n[2:])\n",
    "print(n[1:10:2]) "
   ]
  },
  {
   "cell_type": "code",
   "execution_count": 54,
   "metadata": {},
   "outputs": [
    {
     "name": "stdout",
     "output_type": "stream",
     "text": [
      "[1, 2, 3, 4, 5, 6, 7, 8, 9, 10, 11, 12]\n",
      "[2, 3, 4, 5]\n",
      "[1, 2]\n",
      "[3, 4, 5, 6, 7, 8, 9, 10, 11, 12]\n",
      "[2, 4, 6, 8, 10]\n"
     ]
    }
   ],
   "source": [
    "#Solution 7\n",
    "n=[1,2,3,4,5,6,7,8,9,10,11,12] \n",
    "\n",
    "#7(a)  \n",
    "print(n[:]) # It will print all the value\n",
    "\n",
    "#7(b)\n",
    "print(n[1:5]) # It will print value 2nd to 4th value (2,3,4,5)\n",
    "\n",
    "#7(c)\n",
    "print(n[:2]) #It will print 0th to 1 st position (1,2)\n",
    "\n",
    "#7(d)\n",
    "print(n[2:]) #It will print 3rd position to last value (3,4,5,.....,12)\n",
    "\n",
    "\n",
    "#7(e)\n",
    "print(n[1:10:2])  # It will print vale from 2nd position to 9th value with 2 steps (2,4,6,.....)"
   ]
  },
  {
   "cell_type": "raw",
   "metadata": {},
   "source": [
    "Question 8.\n",
    "n=[1,2,3,4,5,6,7,8,9,10,11,12] how to reverse the list and how to access list third element\n",
    "from the list?"
   ]
  },
  {
   "cell_type": "code",
   "execution_count": 55,
   "metadata": {},
   "outputs": [
    {
     "data": {
      "text/plain": [
       "10"
      ]
     },
     "execution_count": 55,
     "metadata": {},
     "output_type": "execute_result"
    }
   ],
   "source": [
    "#Solution 8\n",
    "n[::-1][2]"
   ]
  },
  {
   "cell_type": "raw",
   "metadata": {},
   "source": [
    "Question 9\n",
    "What is immutable? Give examples of immutable? "
   ]
  },
  {
   "cell_type": "code",
   "execution_count": 58,
   "metadata": {},
   "outputs": [
    {
     "ename": "TypeError",
     "evalue": "'tuple' object does not support item assignment",
     "output_type": "error",
     "traceback": [
      "\u001b[1;31m---------------------------------------------------------------------------\u001b[0m",
      "\u001b[1;31mTypeError\u001b[0m                                 Traceback (most recent call last)",
      "\u001b[1;32m<ipython-input-58-9e0930eb4f64>\u001b[0m in \u001b[0;36m<module>\u001b[1;34m\u001b[0m\n\u001b[0;32m      5\u001b[0m \u001b[1;33m\u001b[0m\u001b[0m\n\u001b[0;32m      6\u001b[0m \u001b[0mtu\u001b[0m\u001b[1;33m=\u001b[0m\u001b[1;33m(\u001b[0m\u001b[1;36m1\u001b[0m\u001b[1;33m,\u001b[0m\u001b[1;36m2\u001b[0m\u001b[1;33m,\u001b[0m\u001b[1;36m3\u001b[0m\u001b[1;33m)\u001b[0m\u001b[1;33m\u001b[0m\u001b[1;33m\u001b[0m\u001b[0m\n\u001b[1;32m----> 7\u001b[1;33m \u001b[0mtu\u001b[0m\u001b[1;33m[\u001b[0m\u001b[1;36m1\u001b[0m\u001b[1;33m]\u001b[0m\u001b[1;33m=\u001b[0m\u001b[1;36m2\u001b[0m\u001b[1;33m\u001b[0m\u001b[1;33m\u001b[0m\u001b[0m\n\u001b[0m\u001b[0;32m      8\u001b[0m \u001b[1;33m\u001b[0m\u001b[0m\n\u001b[0;32m      9\u001b[0m \u001b[1;31m# TypeError                                 Traceback (most recent call last)\u001b[0m\u001b[1;33m\u001b[0m\u001b[1;33m\u001b[0m\u001b[1;33m\u001b[0m\u001b[0m\n",
      "\u001b[1;31mTypeError\u001b[0m: 'tuple' object does not support item assignment"
     ]
    }
   ],
   "source": [
    "#Solution 9\n",
    "# Immutable: immutable objects are not modified (i.e) not changeable int, float, bool, str, tuple, Unicode, etc ...\n",
    "# are immutable. immutable objects are expensive and difficult to change. a tuple is enclosed within the parenthesis \n",
    "# tuples are immutable and can't be changed.\n",
    "\n",
    "tu=(1,2,3)\n",
    "tu[1]=2\n",
    "\n",
    "# TypeError                                 Traceback (most recent call last)\n",
    "# <ipython-input-56-5a009b6fca8b> in <module>\n",
    "#       5 \n",
    "#       6 tu=(1,2,3)\n",
    "# ----> 7 tu[1]=2\n",
    "\n",
    "# TypeError: 'tuple' object does not support item assignment\n",
    "\n",
    "\n",
    "st='hello'\n",
    "st[2]='op'\n",
    "\n",
    "# TypeError                                 Traceback (most recent call last)\n",
    "# <ipython-input-57-0dff90039225> in <module>\n",
    "#       5 \n",
    "#       6 tu=(1,2,3)\n",
    "# ----> 7 tu[1]=2\n",
    "#       8 \n",
    "#       9 # TypeError                                 Traceback (most recent call last)\n",
    "\n",
    "# TypeError: 'tuple' object does not support item assignment\n"
   ]
  },
  {
   "cell_type": "raw",
   "metadata": {},
   "source": [
    "Question 10\n",
    "10. What is difference between tuple and a list? "
   ]
  },
  {
   "cell_type": "code",
   "execution_count": 59,
   "metadata": {},
   "outputs": [],
   "source": [
    "# Solution 10\n",
    "# Tuple is immutable object,Tuple is initialised by () brackets,Tuple consume less memory.\n",
    "# List is mutable object , List is initialised by [] brackets,It consume more memory."
   ]
  },
  {
   "cell_type": "raw",
   "metadata": {},
   "source": [
    "Question 11\n",
    "Why apply() ,applymap(),decorators and lambda funcitons? "
   ]
  },
  {
   "cell_type": "code",
   "execution_count": 21,
   "metadata": {},
   "outputs": [
    {
     "name": "stdout",
     "output_type": "stream",
     "text": [
      "       A   B   C\n",
      "Row 1  1  10  20\n",
      "Row 2  2  20  40\n",
      "Row 3  3  30  60\n",
      "Row 4  4  40  80\n",
      "Original dataframe:\n",
      " k  s  r  c  o  n  s  u  l  t  a  n  t\n",
      " k  s  r  c  o  n  s  u  l  t  a  n  t\n",
      " k  s  r  c  o  n  s  u  l  t  a  n  t\n",
      " k  s  r  c  o  n  s  u  l  t  a  n  t\n",
      " k  s  r  c  o  n  s  u  l  t  a  n  t\n",
      "Transformed dataframe:\n",
      " a  c  k  l  n  n  o  r  s  s  t  t  u\n",
      " a  c  k  l  n  n  o  r  s  s  t  t  u\n",
      " a  c  k  l  n  n  o  r  s  s  t  t  u\n",
      " a  c  k  l  n  n  o  r  s  s  t  t  u\n",
      " a  c  k  l  n  n  o  r  s  s  t  t  u\n",
      "\n",
      "Original series\n",
      " k\n",
      " s\n",
      " r\n",
      " c\n",
      " o\n",
      " n\n",
      " s\n",
      " u\n",
      " l\n",
      " t\n",
      " a\n",
      " n\n",
      " t\n",
      "\n",
      "Transformed series:\n",
      " K\n",
      " S\n",
      " R\n",
      " C\n",
      " O\n",
      " N\n",
      " S\n",
      " U\n",
      " L\n",
      " T\n",
      " A\n",
      " N\n",
      " T\n",
      "\n",
      "Original dataframe:\n",
      " k  s  r  c  o  n  s  u  l  t  a  n  t\n",
      " k  s  r  c  o  n  s  u  l  t  a  n  t\n",
      " k  s  r  c  o  n  s  u  l  t  a  n  t\n",
      " k  s  r  c  o  n  s  u  l  t  a  n  t\n",
      " k  s  r  c  o  n  s  u  l  t  a  n  t\n",
      "\n",
      "Transformed dataframe:\n",
      " K  S  R  C  O  N  S  U  L  T  A  N  T\n",
      " K  S  R  C  O  N  S  U  L  T  A  N  T\n",
      " K  S  R  C  O  N  S  U  L  T  A  N  T\n",
      " K  S  R  C  O  N  S  U  L  T  A  N  T\n",
      " K  S  R  C  O  N  S  U  L  T  A  N  T\n",
      "\n",
      "Welcome to ksrconsultant\n"
     ]
    }
   ],
   "source": [
    "# Dataframe : We use apply and applymap function\n",
    "# Series : We use map and apply function in series\n",
    "\n",
    "# apply() is used to apply a function along an axis of the DataFrame or on values of Series.\n",
    "# applymap() is used to apply a function to a DataFrame elementwise.\n",
    "# map() is used to substitute each value in a Series with another value.\n",
    "\n",
    "import pandas as pd\n",
    "df = pd.DataFrame({ 'A': [1,2,3,4], \n",
    "                   'B': [10,20,30,40],\n",
    "                   'C': [20,40,60,80]\n",
    "                  }, \n",
    "                  index=['Row 1', 'Row 2', 'Row 3', 'Row 4'])\n",
    "\n",
    "\n",
    "print(df)\n",
    "\n",
    "# df.apply(lambda x:sum(x),df)\n",
    "# print('Lambda dataframe sum',a(df))\n",
    "# lambda functions, also known as an anonymous function, start with the keyword lambda.\n",
    "# Syntax :\n",
    "#     lambda arguments : expression\n",
    "    \n",
    "# In other words, lambda functions are a short version of the normal function that takes one expression and\n",
    "# needs no return statement at the end.\n",
    "    \n",
    "    \n",
    "# applymap() method only works on a pandas dataframe where function is applied on every \n",
    "# element individually.\n",
    "\n",
    "# apply() method can be applied both to series and dataframes where function can be applied both series \n",
    "# and individual elements based on the type of function provided.\n",
    "\n",
    "# map() method only works on a pandas series where type of operation to be applied depends on argument passed as \n",
    "# a function, dictionary or a list.\n",
    "  \n",
    "    \n",
    "a= lambda x:sum(x)\n",
    "l=[1,2,3]\n",
    "a(l)\n",
    "\n",
    "\n",
    "ksr_string = 'ksrconsultant'\n",
    "ksr_list = 5 * [pd.Series(list(ksr_string))]\n",
    "ksr_list\n",
    "\n",
    "\n",
    "ksr_df = pd.DataFrame(data = ksr_list) \n",
    "print(\"Original dataframe:\\n\" + ksr_df.to_string(index = False, header = False)) \n",
    "\n",
    "\n",
    "new_ksr_df = ksr_df.apply(lambda x:x.sort_values(), axis = 1) \n",
    "  \n",
    "print(\"Transformed dataframe:\\n\" + new_ksr_df.to_string(index = False, header = False), end = '\\n\\n')\n",
    "\n",
    "\n",
    "\n",
    "#applying on series\n",
    "ks_string = 'geeksforgeeks'\n",
    "ksr_series = pd.Series(list(ksr_string)) \n",
    "print(\"Original series\\n\" + ksr_series.to_string(index = False, header = False), end = '\\n\\n')\n",
    "new_ksr_series = ksr_series.apply(str.upper) \n",
    "print(\"Transformed series:\\n\" + new_ksr_series.to_string(index = False, header = False), end = '\\n\\n')\n",
    "\n",
    "\n",
    "#applymap can be applied on dataframe only\n",
    "# DataFrame generation \n",
    "ksr_string = 'ksrconsultant'\n",
    "ksr_list = 5 * [pd.Series(list(ksr_string))] \n",
    "ksr_df = pd.DataFrame(data = ksr_list) \n",
    "  \n",
    "print(\"Original dataframe:\\n\" + ksr_df.to_string(index = False,header = False), end = '\\n\\n') \n",
    "\n",
    "\n",
    "new_ksr_df = ksr_df.applymap(str.upper) \n",
    "print(\"Transformed dataframe:\\n\" + new_ksr_df.to_string(index = False, header = False), end = '\\n\\n') \n",
    "\n",
    "\n",
    "\n",
    "\n",
    "# Decoraor :\n",
    "# One of the essential things that programmers should keep in mind is \"do not repeat yourself\". \n",
    "# This means that programmers should not repeat the same code - in fact, they must re-use the code. \n",
    "# Programmers must look for an elegant solution when they faced any problem of creating highly repetitive code. \n",
    "# In Python, this problem can be solved using the concept of meta-programming.\n",
    "\n",
    "# Meta-programming is the concept of building functions and classes whose primary target is to manipulate code by \n",
    "# modifying, wrapping, or generating existing code.\n",
    "\n",
    "# The significant features of meta-programming are:\n",
    "\n",
    "# Decorators\n",
    "# Metaclasses\n",
    "# Class-decorators\n",
    "\n",
    "#Putting wrapper for a function\n",
    "# Programmers can get the facility to add wrapper as a layer around a function to add extra processing capabilities \n",
    "# such as timing, logging, etc. The simple code to do this is:\n",
    "\n",
    "# Adds a welcome message to the string \n",
    "# returned by fun(). Takes fun() as \n",
    "# parameter and returns welcome(). \n",
    "def decorate_message(fun): \n",
    "  \n",
    "    # Nested function \n",
    "    def addWelcome(site_name): \n",
    "        return \"Welcome to \" + fun(site_name) \n",
    "  \n",
    "    # Decorator returns a function \n",
    "    return addWelcome \n",
    "  \n",
    "@decorate_message\n",
    "def site(site_name): \n",
    "    return site_name; \n",
    "\n",
    "\n",
    "print(site(\"ksrconsultant\"))\n",
    "\n"
   ]
  },
  {
   "cell_type": "raw",
   "metadata": {
    "scrolled": true
   },
   "source": [
    "df.apply(sum,df)"
   ]
  },
  {
   "cell_type": "raw",
   "metadata": {},
   "source": [
    "Question 12\n",
    "Give an example to iterate through a list and print its index and corresponding value? "
   ]
  },
  {
   "cell_type": "code",
   "execution_count": 24,
   "metadata": {},
   "outputs": [
    {
     "name": "stdout",
     "output_type": "stream",
     "text": [
      "Index value 0\n",
      "Value of list 1\n",
      "Index value 1\n",
      "Value of list 2\n",
      "Index value 2\n",
      "Value of list 3\n",
      "Index value 3\n",
      "Value of list 4\n"
     ]
    }
   ],
   "source": [
    "# Solution 12\n",
    "l=[1,2,3,4]\n",
    "for elem in l:\n",
    "    print('Index value',l.index(elem))\n",
    "    print('Value of list',elem)"
   ]
  },
  {
   "cell_type": "code",
   "execution_count": null,
   "metadata": {},
   "outputs": [],
   "source": []
  }
 ],
 "metadata": {
  "kernelspec": {
   "display_name": "Python 3",
   "language": "python",
   "name": "python3"
  },
  "language_info": {
   "codemirror_mode": {
    "name": "ipython",
    "version": 3
   },
   "file_extension": ".py",
   "mimetype": "text/x-python",
   "name": "python",
   "nbconvert_exporter": "python",
   "pygments_lexer": "ipython3",
   "version": "3.8.3"
  }
 },
 "nbformat": 4,
 "nbformat_minor": 4
}
