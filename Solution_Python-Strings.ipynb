{
 "cells": [
  {
   "cell_type": "raw",
   "metadata": {},
   "source": [
    "Assignment Solution to Python-Strings\n",
    "By : Nikhil Sharma\n",
    "Date : 30-10-2020\n"
   ]
  },
  {
   "cell_type": "raw",
   "metadata": {},
   "source": [
    "Question 1. \n",
    "1. string1= ' This is Python first class'\n",
    "extract string “first” from the above string "
   ]
  },
  {
   "cell_type": "code",
   "execution_count": 8,
   "metadata": {},
   "outputs": [
    {
     "data": {
      "text/plain": [
       "'first'"
      ]
     },
     "execution_count": 8,
     "metadata": {},
     "output_type": "execute_result"
    }
   ],
   "source": [
    "# Solution 1\n",
    "string1= ' This is Python first class'\n",
    "string1.split()[-2]\n"
   ]
  },
  {
   "cell_type": "code",
   "execution_count": 1,
   "metadata": {},
   "outputs": [],
   "source": [
    "# 2. write a code to list only .csv files in a directory? "
   ]
  },
  {
   "cell_type": "code",
   "execution_count": 9,
   "metadata": {},
   "outputs": [
    {
     "name": "stdout",
     "output_type": "stream",
     "text": [
      "New Microsoft Excel Worksheet.csv\n"
     ]
    },
    {
     "data": {
      "text/plain": [
       "['New Microsoft Excel Worksheet.csv']"
      ]
     },
     "execution_count": 9,
     "metadata": {},
     "output_type": "execute_result"
    }
   ],
   "source": [
    "# Solution 2\n",
    "import os\n",
    "\n",
    "# One Way\n",
    "for elem in os.listdir():\n",
    "    if elem.endswith('.csv'):\n",
    "        print(elem)\n",
    "        \n",
    "        \n",
    "# Second Way\n",
    "[elem for elem in os.listdir() if elem.endswith('.csv')]"
   ]
  },
  {
   "cell_type": "code",
   "execution_count": 10,
   "metadata": {},
   "outputs": [],
   "source": [
    "# 3. What is the output of “Python”+1+2+3 ? "
   ]
  },
  {
   "cell_type": "code",
   "execution_count": 14,
   "metadata": {},
   "outputs": [
    {
     "ename": "SyntaxError",
     "evalue": "invalid character in identifier (<ipython-input-14-d20542484260>, line 2)",
     "output_type": "error",
     "traceback": [
      "\u001b[1;36m  File \u001b[1;32m\"<ipython-input-14-d20542484260>\"\u001b[1;36m, line \u001b[1;32m2\u001b[0m\n\u001b[1;33m    “Python”+1+2+3\u001b[0m\n\u001b[1;37m           ^\u001b[0m\n\u001b[1;31mSyntaxError\u001b[0m\u001b[1;31m:\u001b[0m invalid character in identifier\n"
     ]
    }
   ],
   "source": [
    "#Solution 3 \n",
    "“Python”+1+2+3\n",
    "\n",
    "# It will give an error invalid character identifier. "
   ]
  },
  {
   "cell_type": "raw",
   "metadata": {},
   "source": [
    "Question 4\n",
    "i=6\n",
    "j=7\n",
    "print( i.__add__(j)) "
   ]
  },
  {
   "cell_type": "code",
   "execution_count": 2,
   "metadata": {},
   "outputs": [
    {
     "name": "stdout",
     "output_type": "stream",
     "text": [
      "13\n"
     ]
    }
   ],
   "source": [
    "# Solution 4\n",
    "i=6\n",
    "j=7\n",
    "print( i.__add__(j)) "
   ]
  },
  {
   "cell_type": "markdown",
   "metadata": {},
   "source": [
    "Question 5\n",
    "what is the output of print('1.1'.isnumeric())?"
   ]
  },
  {
   "cell_type": "code",
   "execution_count": null,
   "metadata": {},
   "outputs": [],
   "source": [
    "# Solution 5\n",
    "False"
   ]
  },
  {
   "cell_type": "raw",
   "metadata": {},
   "source": [
    "Question 6\n",
    "string1= ' This is Python demo' how to reverse the string? \n"
   ]
  },
  {
   "cell_type": "code",
   "execution_count": 20,
   "metadata": {},
   "outputs": [
    {
     "name": "stdout",
     "output_type": "stream",
     "text": [
      "Alphabet reverse>>>>>>>> omed nohtyP si sihT \n",
      "Revesing the string>>>>>>>>>>>>>>>>>>>>>> demo Python is This\n"
     ]
    }
   ],
   "source": [
    "# Solution 6\n",
    "string1= ' This is Python demo' \n",
    "#Comple alphabet reverse\n",
    "print(\"Alphabet reverse>>>>>>>>\",string1[::-1])\n",
    "\n",
    "#Second way\n",
    "print('Revesing the string>>>>>>>>>>>>>>>>>>>>>>',' '.join(string1.strip(' ').split(' ')[::-1]))"
   ]
  },
  {
   "cell_type": "raw",
   "metadata": {},
   "source": [
    "Question 7.\n",
    "What is the output of the below?\n",
    "string1='hello how are you?'\n",
    "for i in string1:\n",
    " print(i) \n",
    " "
   ]
  },
  {
   "cell_type": "code",
   "execution_count": 21,
   "metadata": {},
   "outputs": [
    {
     "name": "stdout",
     "output_type": "stream",
     "text": [
      "h\n",
      "e\n",
      "l\n",
      "l\n",
      "o\n",
      " \n",
      "h\n",
      "o\n",
      "w\n",
      " \n",
      "a\n",
      "r\n",
      "e\n",
      " \n",
      "y\n",
      "o\n",
      "u\n",
      "?\n"
     ]
    }
   ],
   "source": [
    "# Solution 7 \n",
    "\n",
    "#Each charater in the string will be output in each line\n",
    "\n",
    "string1='hello how are you?'\n",
    "for i in string1:\n",
    " print(i)"
   ]
  },
  {
   "cell_type": "raw",
   "metadata": {},
   "source": [
    "Questin 8.\n",
    "What is the output of string1.split()? "
   ]
  },
  {
   "cell_type": "code",
   "execution_count": 22,
   "metadata": {},
   "outputs": [
    {
     "data": {
      "text/plain": [
       "['hello', 'how', 'are', 'you?']"
      ]
     },
     "execution_count": 22,
     "metadata": {},
     "output_type": "execute_result"
    }
   ],
   "source": [
    "# Solution 8\n",
    "#The string split each element as list elemnts\n",
    "string1.split()"
   ]
  },
  {
   "cell_type": "code",
   "execution_count": null,
   "metadata": {},
   "outputs": [],
   "source": []
  }
 ],
 "metadata": {
  "kernelspec": {
   "display_name": "Python 3",
   "language": "python",
   "name": "python3"
  },
  "language_info": {
   "codemirror_mode": {
    "name": "ipython",
    "version": 3
   },
   "file_extension": ".py",
   "mimetype": "text/x-python",
   "name": "python",
   "nbconvert_exporter": "python",
   "pygments_lexer": "ipython3",
   "version": "3.8.3"
  }
 },
 "nbformat": 4,
 "nbformat_minor": 4
}
